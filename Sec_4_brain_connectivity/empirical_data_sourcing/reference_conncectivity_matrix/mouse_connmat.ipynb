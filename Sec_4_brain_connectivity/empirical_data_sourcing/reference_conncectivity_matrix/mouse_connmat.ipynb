{
 "cells": [
  {
   "cell_type": "markdown",
   "metadata": {},
   "source": [
    "# Extract reference conncectivity matrices of the mouse visual system from various papers"
   ]
  },
  {
   "cell_type": "code",
   "execution_count": 1,
   "metadata": {},
   "outputs": [],
   "source": [
    "from itertools import permutations\n",
    "import pandas as pd\n",
    "import numpy as np\n",
    "import matplotlib.pyplot as plt\n",
    "import pickle"
   ]
  },
  {
   "cell_type": "code",
   "execution_count": 2,
   "metadata": {},
   "outputs": [
    {
     "name": "stdout",
     "output_type": "stream",
     "text": [
      "there are  30 combinations of areas where we are interested in the strength of the connections\n"
     ]
    }
   ],
   "source": [
    "areas_list = ['V1', 'RL', 'LM', 'AL', 'PM', 'AM']\n",
    "areas_map = {'VISp':'V1', 'VISl':'LM', 'VISrl':'RL', 'VISal':'AL', 'VISpm':'PM', 'VISam':'AM', 'LGd':'LGN', 'LP':'LP'}\n",
    "inverse_areas_map = {v: k for k, v in areas_map.items()}\n",
    "areas_index = [0, 1, 2, 3, 4, 5]\n",
    "\n",
    "index_combinations = list(permutations(areas_index, 2))\n",
    "print('there are ',len(index_combinations), 'combinations of areas where we are interested in the strength of the connections')"
   ]
  },
  {
   "cell_type": "code",
   "execution_count": 3,
   "metadata": {},
   "outputs": [],
   "source": [
    "# quick plotting function used to visualize the connectivity matrices\n",
    "def plot_connect_matrix(connect_matrix, title):\n",
    "    plt.imshow(connect_matrix, cmap='viridis', interpolation='nearest')\n",
    "    plt.colorbar()\n",
    "    plt.xticks(areas_index, areas_list)\n",
    "    plt.yticks(areas_index, areas_list)\n",
    "    plt.title(title)\n",
    "    plt.ylabel('Target area')\n",
    "    plt.xlabel('Source area')\n",
    "    plt.show()"
   ]
  },
  {
   "cell_type": "markdown",
   "metadata": {},
   "source": [
    "## Source 1: *The Mouse Cortical Connectome, Characterized by an Ultra-Dense Cortical Graph, Maintains Specificity by Distinct Connectivity Profiles*\n",
    "https://doi.org/10.1016/j.neuron.2017.12.037\n",
    "\n",
    "- Corresponding File: `source_1.xlsx`, taken from the supplementary information section of the online article.\n",
    "- Connectivity Metric and method: "
   ]
  },
  {
   "cell_type": "code",
   "execution_count": 4,
   "metadata": {},
   "outputs": [
    {
     "data": {
      "text/html": [
       "<div>\n",
       "<style scoped>\n",
       "    .dataframe tbody tr th:only-of-type {\n",
       "        vertical-align: middle;\n",
       "    }\n",
       "\n",
       "    .dataframe tbody tr th {\n",
       "        vertical-align: top;\n",
       "    }\n",
       "\n",
       "    .dataframe thead th {\n",
       "        text-align: right;\n",
       "    }\n",
       "</style>\n",
       "<table border=\"1\" class=\"dataframe\">\n",
       "  <thead>\n",
       "    <tr style=\"text-align: right;\">\n",
       "      <th></th>\n",
       "      <th>Case</th>\n",
       "      <th>Mouse</th>\n",
       "      <th>Strain</th>\n",
       "      <th>Sex</th>\n",
       "      <th>Age (weeks)</th>\n",
       "      <th>Weight (grams)</th>\n",
       "      <th>Source area</th>\n",
       "      <th>Target area</th>\n",
       "      <th>Neurons</th>\n",
       "      <th>Total neurons</th>\n",
       "      <th>FLNe</th>\n",
       "    </tr>\n",
       "  </thead>\n",
       "  <tbody>\n",
       "    <tr>\n",
       "      <th>0</th>\n",
       "      <td>1</td>\n",
       "      <td>13286</td>\n",
       "      <td>PVtdT</td>\n",
       "      <td>NaN</td>\n",
       "      <td>9</td>\n",
       "      <td>22.0</td>\n",
       "      <td>A</td>\n",
       "      <td>ACAd</td>\n",
       "      <td>1781</td>\n",
       "      <td>187372</td>\n",
       "      <td>0.009505</td>\n",
       "    </tr>\n",
       "    <tr>\n",
       "      <th>1</th>\n",
       "      <td>1</td>\n",
       "      <td>13286</td>\n",
       "      <td>PVtdT</td>\n",
       "      <td>NaN</td>\n",
       "      <td>9</td>\n",
       "      <td>22.0</td>\n",
       "      <td>ACAv</td>\n",
       "      <td>ACAd</td>\n",
       "      <td>31458</td>\n",
       "      <td>187372</td>\n",
       "      <td>0.167900</td>\n",
       "    </tr>\n",
       "    <tr>\n",
       "      <th>2</th>\n",
       "      <td>1</td>\n",
       "      <td>13286</td>\n",
       "      <td>PVtdT</td>\n",
       "      <td>NaN</td>\n",
       "      <td>9</td>\n",
       "      <td>22.0</td>\n",
       "      <td>AId</td>\n",
       "      <td>ACAd</td>\n",
       "      <td>2027</td>\n",
       "      <td>187372</td>\n",
       "      <td>0.010820</td>\n",
       "    </tr>\n",
       "    <tr>\n",
       "      <th>3</th>\n",
       "      <td>1</td>\n",
       "      <td>13286</td>\n",
       "      <td>PVtdT</td>\n",
       "      <td>NaN</td>\n",
       "      <td>9</td>\n",
       "      <td>22.0</td>\n",
       "      <td>AIp</td>\n",
       "      <td>ACAd</td>\n",
       "      <td>126</td>\n",
       "      <td>187372</td>\n",
       "      <td>0.000673</td>\n",
       "    </tr>\n",
       "    <tr>\n",
       "      <th>4</th>\n",
       "      <td>1</td>\n",
       "      <td>13286</td>\n",
       "      <td>PVtdT</td>\n",
       "      <td>NaN</td>\n",
       "      <td>9</td>\n",
       "      <td>22.0</td>\n",
       "      <td>AIv</td>\n",
       "      <td>ACAd</td>\n",
       "      <td>263</td>\n",
       "      <td>187372</td>\n",
       "      <td>0.001404</td>\n",
       "    </tr>\n",
       "    <tr>\n",
       "      <th>...</th>\n",
       "      <td>...</td>\n",
       "      <td>...</td>\n",
       "      <td>...</td>\n",
       "      <td>...</td>\n",
       "      <td>...</td>\n",
       "      <td>...</td>\n",
       "      <td>...</td>\n",
       "      <td>...</td>\n",
       "      <td>...</td>\n",
       "      <td>...</td>\n",
       "      <td>...</td>\n",
       "    </tr>\n",
       "    <tr>\n",
       "      <th>1237</th>\n",
       "      <td>27</td>\n",
       "      <td>14006</td>\n",
       "      <td>PVtdT</td>\n",
       "      <td>NaN</td>\n",
       "      <td>12</td>\n",
       "      <td>NaN</td>\n",
       "      <td>SSp-un</td>\n",
       "      <td>VISC</td>\n",
       "      <td>4830</td>\n",
       "      <td>268646</td>\n",
       "      <td>0.017980</td>\n",
       "    </tr>\n",
       "    <tr>\n",
       "      <th>1238</th>\n",
       "      <td>27</td>\n",
       "      <td>14006</td>\n",
       "      <td>PVtdT</td>\n",
       "      <td>NaN</td>\n",
       "      <td>12</td>\n",
       "      <td>NaN</td>\n",
       "      <td>SSs</td>\n",
       "      <td>VISC</td>\n",
       "      <td>70087</td>\n",
       "      <td>268646</td>\n",
       "      <td>0.260900</td>\n",
       "    </tr>\n",
       "    <tr>\n",
       "      <th>1239</th>\n",
       "      <td>27</td>\n",
       "      <td>14006</td>\n",
       "      <td>PVtdT</td>\n",
       "      <td>NaN</td>\n",
       "      <td>12</td>\n",
       "      <td>NaN</td>\n",
       "      <td>TEa</td>\n",
       "      <td>VISC</td>\n",
       "      <td>17414</td>\n",
       "      <td>268646</td>\n",
       "      <td>0.064820</td>\n",
       "    </tr>\n",
       "    <tr>\n",
       "      <th>1240</th>\n",
       "      <td>27</td>\n",
       "      <td>14006</td>\n",
       "      <td>PVtdT</td>\n",
       "      <td>NaN</td>\n",
       "      <td>12</td>\n",
       "      <td>NaN</td>\n",
       "      <td>TEp</td>\n",
       "      <td>VISC</td>\n",
       "      <td>186</td>\n",
       "      <td>268646</td>\n",
       "      <td>0.000692</td>\n",
       "    </tr>\n",
       "    <tr>\n",
       "      <th>1241</th>\n",
       "      <td>27</td>\n",
       "      <td>14006</td>\n",
       "      <td>PVtdT</td>\n",
       "      <td>NaN</td>\n",
       "      <td>12</td>\n",
       "      <td>NaN</td>\n",
       "      <td>V1</td>\n",
       "      <td>VISC</td>\n",
       "      <td>31</td>\n",
       "      <td>268646</td>\n",
       "      <td>0.000115</td>\n",
       "    </tr>\n",
       "  </tbody>\n",
       "</table>\n",
       "<p>1242 rows × 11 columns</p>\n",
       "</div>"
      ],
      "text/plain": [
       "      Case  Mouse Strain  Sex  Age (weeks)  Weight (grams) Source area  \\\n",
       "0        1  13286  PVtdT  NaN            9            22.0           A   \n",
       "1        1  13286  PVtdT  NaN            9            22.0        ACAv   \n",
       "2        1  13286  PVtdT  NaN            9            22.0         AId   \n",
       "3        1  13286  PVtdT  NaN            9            22.0         AIp   \n",
       "4        1  13286  PVtdT  NaN            9            22.0         AIv   \n",
       "...    ...    ...    ...  ...          ...             ...         ...   \n",
       "1237    27  14006  PVtdT  NaN           12             NaN      SSp-un   \n",
       "1238    27  14006  PVtdT  NaN           12             NaN         SSs   \n",
       "1239    27  14006  PVtdT  NaN           12             NaN         TEa   \n",
       "1240    27  14006  PVtdT  NaN           12             NaN         TEp   \n",
       "1241    27  14006  PVtdT  NaN           12             NaN          V1   \n",
       "\n",
       "     Target area  Neurons  Total neurons      FLNe  \n",
       "0           ACAd     1781         187372  0.009505  \n",
       "1           ACAd    31458         187372  0.167900  \n",
       "2           ACAd     2027         187372  0.010820  \n",
       "3           ACAd      126         187372  0.000673  \n",
       "4           ACAd      263         187372  0.001404  \n",
       "...          ...      ...            ...       ...  \n",
       "1237        VISC     4830         268646  0.017980  \n",
       "1238        VISC    70087         268646  0.260900  \n",
       "1239        VISC    17414         268646  0.064820  \n",
       "1240        VISC      186         268646  0.000692  \n",
       "1241        VISC       31         268646  0.000115  \n",
       "\n",
       "[1242 rows x 11 columns]"
      ]
     },
     "execution_count": 4,
     "metadata": {},
     "output_type": "execute_result"
    }
   ],
   "source": [
    "tab1 = pd.read_excel('source_1.xlsx')\n",
    "tab1"
   ]
  },
  {
   "cell_type": "markdown",
   "metadata": {},
   "source": [
    "### Processing Method:\n",
    "search by source area and target area. If multiple entries are found, average the values."
   ]
  },
  {
   "cell_type": "code",
   "execution_count": 5,
   "metadata": {},
   "outputs": [
    {
     "name": "stdout",
     "output_type": "stream",
     "text": [
      "[[0.   0.01 0.27 0.04 0.11 0.01]\n",
      " [0.2  0.   0.05 0.07 0.01 0.01]\n",
      " [0.48 0.02 0.   0.04 0.03 0.02]\n",
      " [0.21 0.09 0.09 0.   0.01 0.02]\n",
      " [0.35 0.   0.05 0.01 0.   0.1 ]\n",
      " [0.11 0.02 0.02 0.01 0.09 0.  ]]\n"
     ]
    },
    {
     "data": {
      "image/png": "[encoded data removed]",
      "text/plain": [
       "<Figure size 640x480 with 2 Axes>"
      ]
     },
     "metadata": {},
     "output_type": "display_data"
    }
   ],
   "source": [
    "# setup the connectivity matrix for source 1\n",
    "CM1 = np.zeros((len(areas_list), len(areas_list)))\n",
    "\n",
    "# read in and store the mean connection strength for each pair of areas\n",
    "for var_from_idx, var_to_idx in index_combinations:\n",
    "    var_from = areas_list[var_from_idx]\n",
    "    var_to = areas_list[var_to_idx]\n",
    "\n",
    "    mean_conn = tab1[(tab1['Source area'] == var_from) & (tab1['Target area'] == var_to)]['FLNe'].mean()\n",
    "    \n",
    "    CM1[var_to_idx, var_from_idx] = mean_conn\n",
    "\n",
    "CM1 = np.round(CM1, 2)\n",
    "\n",
    "print(CM1)\n",
    "plot_connect_matrix(CM1, 'Connectivity matrix based on FLNe scores for source 1')"
   ]
  },
  {
   "cell_type": "markdown",
   "metadata": {},
   "source": [
    "### Export Matrices"
   ]
  },
  {
   "cell_type": "code",
   "execution_count": 7,
   "metadata": {},
   "outputs": [],
   "source": [
    "with open('reference_structural_conn_matrix.pkl', 'wb') as f:\n",
    "    pickle.dump(CM1, f)"
   ]
  }
 ],
 "metadata": {
  "kernelspec": {
   "display_name": "base",
   "language": "python",
   "name": "python3"
  },
  "language_info": {
   "codemirror_mode": {
    "name": "ipython",
    "version": 3
   },
   "file_extension": ".py",
   "mimetype": "text/x-python",
   "name": "python",
   "nbconvert_exporter": "python",
   "pygments_lexer": "ipython3",
   "version": "3.11.5"
  }
 },
 "nbformat": 4,
 "nbformat_minor": 2
}
